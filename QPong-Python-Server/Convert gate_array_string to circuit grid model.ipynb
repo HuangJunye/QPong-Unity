{
 "cells": [
  {
   "cell_type": "code",
   "execution_count": 25,
   "metadata": {},
   "outputs": [],
   "source": [
    "row_num = 3\n",
    "column_num = 15"
   ]
  },
  {
   "cell_type": "code",
   "execution_count": 57,
   "metadata": {},
   "outputs": [],
   "source": [
    "gate_array_string = 'H,I,I,I,I,I,I,I,I,I,I,I,I,I,I,I,I,I,H,I,I,I,I,I,I,I,I,I,I,I,I,I,I,I,I,I,I,I,I,I,I,I,I,I,H'"
   ]
  },
  {
   "cell_type": "code",
   "execution_count": 58,
   "metadata": {},
   "outputs": [],
   "source": [
    "gate_array = gate_array_string.split(',')"
   ]
  },
  {
   "cell_type": "code",
   "execution_count": 59,
   "metadata": {},
   "outputs": [
    {
     "name": "stdout",
     "output_type": "stream",
     "text": [
      "Row:0, Column:0, Gate:H\n",
      "Row:0, Column:1, Gate:I\n",
      "Row:0, Column:2, Gate:I\n",
      "Row:0, Column:3, Gate:I\n",
      "Row:0, Column:4, Gate:I\n",
      "Row:0, Column:5, Gate:I\n",
      "Row:0, Column:6, Gate:I\n",
      "Row:0, Column:7, Gate:I\n",
      "Row:0, Column:8, Gate:I\n",
      "Row:0, Column:9, Gate:I\n",
      "Row:0, Column:10, Gate:I\n",
      "Row:0, Column:11, Gate:I\n",
      "Row:0, Column:12, Gate:I\n",
      "Row:0, Column:13, Gate:I\n",
      "Row:0, Column:14, Gate:I\n",
      "Row:1, Column:0, Gate:I\n",
      "Row:1, Column:1, Gate:I\n",
      "Row:1, Column:2, Gate:I\n",
      "Row:1, Column:3, Gate:H\n",
      "Row:1, Column:4, Gate:I\n",
      "Row:1, Column:5, Gate:I\n",
      "Row:1, Column:6, Gate:I\n",
      "Row:1, Column:7, Gate:I\n",
      "Row:1, Column:8, Gate:I\n",
      "Row:1, Column:9, Gate:I\n",
      "Row:1, Column:10, Gate:I\n",
      "Row:1, Column:11, Gate:I\n",
      "Row:1, Column:12, Gate:I\n",
      "Row:1, Column:13, Gate:I\n",
      "Row:1, Column:14, Gate:I\n",
      "Row:2, Column:0, Gate:I\n",
      "Row:2, Column:1, Gate:I\n",
      "Row:2, Column:2, Gate:I\n",
      "Row:2, Column:3, Gate:I\n",
      "Row:2, Column:4, Gate:I\n",
      "Row:2, Column:5, Gate:I\n",
      "Row:2, Column:6, Gate:I\n",
      "Row:2, Column:7, Gate:I\n",
      "Row:2, Column:8, Gate:I\n",
      "Row:2, Column:9, Gate:I\n",
      "Row:2, Column:10, Gate:I\n",
      "Row:2, Column:11, Gate:I\n",
      "Row:2, Column:12, Gate:I\n",
      "Row:2, Column:13, Gate:I\n",
      "Row:2, Column:14, Gate:H\n"
     ]
    }
   ],
   "source": [
    "for i in range(row_num):\n",
    "    for j in range(column_num):\n",
    "        index = i * column_num + j\n",
    "        print(f'Row:{i}, Column:{j}, Gate:{gate_array[index]}')"
   ]
  },
  {
   "cell_type": "code",
   "execution_count": 60,
   "metadata": {},
   "outputs": [],
   "source": [
    "from model.circuit_grid_model import CircuitGridModel\n",
    "from model import circuit_node_types as node_types\n",
    "from controls.circuit_grid import CircuitGridNode\n",
    "from qiskit import BasicAer, execute, ClassicalRegister\n",
    "from utils.states import comp_basis_states\n",
    "from copy import deepcopy\n",
    "import json_tricks"
   ]
  },
  {
   "cell_type": "code",
   "execution_count": 61,
   "metadata": {},
   "outputs": [],
   "source": [
    "circuit_grid_model = CircuitGridModel(3, 15)"
   ]
  },
  {
   "cell_type": "code",
   "execution_count": 62,
   "metadata": {},
   "outputs": [
    {
     "data": {
      "text/plain": [
       "'OPENQASM 2.0;\\ninclude \"qelib1.inc\";\\nqreg q[3];\\n'"
      ]
     },
     "execution_count": 62,
     "metadata": {},
     "output_type": "execute_result"
    }
   ],
   "source": [
    "circuit_grid_model.compute_circuit().qasm()"
   ]
  },
  {
   "cell_type": "code",
   "execution_count": 63,
   "metadata": {},
   "outputs": [],
   "source": [
    "for i in range(row_num):\n",
    "    for j in range(column_num):\n",
    "        index = i * column_num + j\n",
    "        node = CircuitGridNode(node_types.IDEN)\n",
    "        if gate_array[index] == 'X':\n",
    "            node = CircuitGridNode(node_types.X)\n",
    "        elif gate_array[index] == 'Y':\n",
    "            node = CircuitGridNode(node_types.Y)\n",
    "        elif gate_array[index] == 'Z':\n",
    "            node = CircuitGridNode(node_types.Z)\n",
    "        elif gate_array[index] == 'H':\n",
    "            node = CircuitGridNode(node_types.H)\n",
    "        circuit_grid_model.set_node(i,j,node)"
   ]
  },
  {
   "cell_type": "code",
   "execution_count": 64,
   "metadata": {},
   "outputs": [
    {
     "name": "stdout",
     "output_type": "stream",
     "text": [
      "OPENQASM 2.0;\n",
      "include \"qelib1.inc\";\n",
      "qreg q[3];\n",
      "h q[0];\n",
      "id q[1];\n",
      "id q[2];\n",
      "id q[0];\n",
      "id q[1];\n",
      "id q[2];\n",
      "id q[0];\n",
      "id q[1];\n",
      "id q[2];\n",
      "id q[0];\n",
      "h q[1];\n",
      "id q[2];\n",
      "id q[0];\n",
      "id q[1];\n",
      "id q[2];\n",
      "id q[0];\n",
      "id q[1];\n",
      "id q[2];\n",
      "id q[0];\n",
      "id q[1];\n",
      "id q[2];\n",
      "id q[0];\n",
      "id q[1];\n",
      "id q[2];\n",
      "id q[0];\n",
      "id q[1];\n",
      "id q[2];\n",
      "id q[0];\n",
      "id q[1];\n",
      "id q[2];\n",
      "id q[0];\n",
      "id q[1];\n",
      "id q[2];\n",
      "id q[0];\n",
      "id q[1];\n",
      "id q[2];\n",
      "id q[0];\n",
      "id q[1];\n",
      "id q[2];\n",
      "id q[0];\n",
      "id q[1];\n",
      "id q[2];\n",
      "id q[0];\n",
      "id q[1];\n",
      "h q[2];\n",
      "\n"
     ]
    }
   ],
   "source": [
    "print(circuit_grid_model.compute_circuit().qasm())"
   ]
  },
  {
   "cell_type": "code",
   "execution_count": 65,
   "metadata": {},
   "outputs": [],
   "source": [
    "circuit = circuit_grid_model.compute_circuit()\n",
    "shot_num = 1000\n",
    "backend_sv_sim = BasicAer.get_backend('statevector_simulator')\n",
    "job_sim = execute(circuit, backend_sv_sim, shots=shot_num)\n",
    "result_sim = job_sim.result()\n",
    "quantum_state = result_sim.get_statevector(circuit, decimals=3)"
   ]
  },
  {
   "cell_type": "code",
   "execution_count": 66,
   "metadata": {},
   "outputs": [
    {
     "data": {
      "text/plain": [
       "array([0.354+0.j, 0.354+0.j, 0.354+0.j, 0.354+0.j, 0.354+0.j, 0.354+0.j,\n",
       "       0.354+0.j, 0.354+0.j])"
      ]
     },
     "execution_count": 66,
     "metadata": {},
     "output_type": "execute_result"
    }
   ],
   "source": [
    "quantum_state"
   ]
  },
  {
   "cell_type": "code",
   "execution_count": 67,
   "metadata": {},
   "outputs": [
    {
     "data": {
      "text/plain": [
       "'{\"__ndarray__\": [{\"__complex__\": [0.354, 0.0]}, {\"__complex__\": [0.354, 0.0]}, {\"__complex__\": [0.354, 0.0]}, {\"__complex__\": [0.354, 0.0]}, {\"__complex__\": [0.354, 0.0]}, {\"__complex__\": [0.354, 0.0]}, {\"__complex__\": [0.354, 0.0]}, {\"__complex__\": [0.354, 0.0]}], \"dtype\": \"complex128\", \"shape\": [8]}'"
      ]
     },
     "execution_count": 67,
     "metadata": {},
     "output_type": "execute_result"
    }
   ],
   "source": [
    "json_tricks.dumps(quantum_state)"
   ]
  },
  {
   "cell_type": "code",
   "execution_count": 68,
   "metadata": {},
   "outputs": [
    {
     "data": {
      "text/plain": [
       "array([0.354+0.j, 0.354+0.j, 0.354+0.j, 0.354+0.j, 0.354+0.j, 0.354+0.j,\n",
       "       0.354+0.j, 0.354+0.j])"
      ]
     },
     "execution_count": 68,
     "metadata": {},
     "output_type": "execute_result"
    }
   ],
   "source": [
    "json_tricks.loads(json_tricks.dumps(quantum_state))"
   ]
  },
  {
   "cell_type": "code",
   "execution_count": null,
   "metadata": {},
   "outputs": [],
   "source": []
  }
 ],
 "metadata": {
  "kernelspec": {
   "display_name": "Python 3",
   "language": "python",
   "name": "python3"
  },
  "language_info": {
   "codemirror_mode": {
    "name": "ipython",
    "version": 3
   },
   "file_extension": ".py",
   "mimetype": "text/x-python",
   "name": "python",
   "nbconvert_exporter": "python",
   "pygments_lexer": "ipython3",
   "version": "3.7.1"
  }
 },
 "nbformat": 4,
 "nbformat_minor": 2
}

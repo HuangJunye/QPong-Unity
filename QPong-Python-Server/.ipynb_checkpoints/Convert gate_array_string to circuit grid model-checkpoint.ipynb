{
 "cells": [
  {
   "cell_type": "code",
   "execution_count": null,
   "metadata": {},
   "outputs": [],
   "source": []
  },
  {
   "cell_type": "code",
   "execution_count": 3,
   "metadata": {},
   "outputs": [],
   "source": [
    "row_num = 3\n",
    "column_num = 15"
   ]
  },
  {
   "cell_type": "code",
   "execution_count": 4,
   "metadata": {},
   "outputs": [],
   "source": [
    "gate_array_string = 'X,X,I,I,I,I,I,I,I,I,I,I,I,I,I,I,I,I,I,I,I,I,I,I,I,I,I,I,I,I,I,I,I,I,I,I,I,I,I,I,I,I,I,I,I'"
   ]
  },
  {
   "cell_type": "code",
   "execution_count": 5,
   "metadata": {},
   "outputs": [],
   "source": [
    "gate_array = gate_array_string.split(',')"
   ]
  },
  {
   "cell_type": "code",
   "execution_count": 8,
   "metadata": {},
   "outputs": [
    {
     "name": "stdout",
     "output_type": "stream",
     "text": [
      "Row:0, Column:0, Gate:X\n",
      "Row:0, Column:1, Gate:X\n",
      "Row:0, Column:2, Gate:I\n",
      "Row:0, Column:3, Gate:I\n",
      "Row:0, Column:4, Gate:I\n",
      "Row:0, Column:5, Gate:I\n",
      "Row:0, Column:6, Gate:I\n",
      "Row:0, Column:7, Gate:I\n",
      "Row:0, Column:8, Gate:I\n",
      "Row:0, Column:9, Gate:I\n",
      "Row:0, Column:10, Gate:I\n",
      "Row:0, Column:11, Gate:I\n",
      "Row:0, Column:12, Gate:I\n",
      "Row:0, Column:13, Gate:I\n",
      "Row:0, Column:14, Gate:I\n",
      "Row:1, Column:0, Gate:I\n",
      "Row:1, Column:1, Gate:I\n",
      "Row:1, Column:2, Gate:I\n",
      "Row:1, Column:3, Gate:I\n",
      "Row:1, Column:4, Gate:I\n",
      "Row:1, Column:5, Gate:I\n",
      "Row:1, Column:6, Gate:I\n",
      "Row:1, Column:7, Gate:I\n",
      "Row:1, Column:8, Gate:I\n",
      "Row:1, Column:9, Gate:I\n",
      "Row:1, Column:10, Gate:I\n",
      "Row:1, Column:11, Gate:I\n",
      "Row:1, Column:12, Gate:I\n",
      "Row:1, Column:13, Gate:I\n",
      "Row:1, Column:14, Gate:I\n",
      "Row:2, Column:0, Gate:I\n",
      "Row:2, Column:1, Gate:I\n",
      "Row:2, Column:2, Gate:I\n",
      "Row:2, Column:3, Gate:I\n",
      "Row:2, Column:4, Gate:I\n",
      "Row:2, Column:5, Gate:I\n",
      "Row:2, Column:6, Gate:I\n",
      "Row:2, Column:7, Gate:I\n",
      "Row:2, Column:8, Gate:I\n",
      "Row:2, Column:9, Gate:I\n",
      "Row:2, Column:10, Gate:I\n",
      "Row:2, Column:11, Gate:I\n",
      "Row:2, Column:12, Gate:I\n",
      "Row:2, Column:13, Gate:I\n",
      "Row:2, Column:14, Gate:I\n"
     ]
    }
   ],
   "source": [
    "for i in range(row_num):\n",
    "    for j in range(column_num):\n",
    "        index = i * column_num + j\n",
    "        print(f'Row:{i}, Column:{j}, Gate:{gate_array[index]}')"
   ]
  },
  {
   "cell_type": "code",
   "execution_count": 8,
   "metadata": {},
   "outputs": [],
   "source": [
    "from model.circuit_grid_model import CircuitGridModel\n",
    "from model import circuit_node_types as node_types"
   ]
  },
  {
   "cell_type": "code",
   "execution_count": 9,
   "metadata": {},
   "outputs": [],
   "source": [
    "circuit_grid_model = CircuitGridModel(3, 15)"
   ]
  },
  {
   "cell_type": "code",
   "execution_count": 10,
   "metadata": {},
   "outputs": [
    {
     "ename": "AttributeError",
     "evalue": "'int' object has no attribute 'node_type'",
     "output_type": "error",
     "traceback": [
      "\u001b[0;31m---------------------------------------------------------------------------\u001b[0m",
      "\u001b[0;31mAttributeError\u001b[0m                            Traceback (most recent call last)",
      "\u001b[0;32m<ipython-input-10-bbd34c57381d>\u001b[0m in \u001b[0;36m<module>\u001b[0;34m\u001b[0m\n\u001b[0;32m----> 1\u001b[0;31m \u001b[0mcircuit_grid_model\u001b[0m\u001b[0;34m.\u001b[0m\u001b[0mset_node\u001b[0m\u001b[0;34m(\u001b[0m\u001b[0;36m0\u001b[0m\u001b[0;34m,\u001b[0m\u001b[0;36m0\u001b[0m\u001b[0;34m,\u001b[0m\u001b[0mnode_types\u001b[0m\u001b[0;34m.\u001b[0m\u001b[0mIDEN\u001b[0m\u001b[0;34m)\u001b[0m\u001b[0;34m\u001b[0m\u001b[0;34m\u001b[0m\u001b[0m\n\u001b[0m",
      "\u001b[0;32m~/Documents/GitHub/QPong-Unity/QPong-Python-Server/model/circuit_grid_model.py\u001b[0m in \u001b[0;36mset_node\u001b[0;34m(self, wire_num, column_num, circuit_grid_node)\u001b[0m\n\u001b[1;32m     39\u001b[0m     \u001b[0;32mdef\u001b[0m \u001b[0mset_node\u001b[0m\u001b[0;34m(\u001b[0m\u001b[0mself\u001b[0m\u001b[0;34m,\u001b[0m \u001b[0mwire_num\u001b[0m\u001b[0;34m,\u001b[0m \u001b[0mcolumn_num\u001b[0m\u001b[0;34m,\u001b[0m \u001b[0mcircuit_grid_node\u001b[0m\u001b[0;34m)\u001b[0m\u001b[0;34m:\u001b[0m\u001b[0;34m\u001b[0m\u001b[0;34m\u001b[0m\u001b[0m\n\u001b[1;32m     40\u001b[0m         \u001b[0mself\u001b[0m\u001b[0;34m.\u001b[0m\u001b[0mnodes\u001b[0m\u001b[0;34m[\u001b[0m\u001b[0mwire_num\u001b[0m\u001b[0;34m]\u001b[0m\u001b[0;34m[\u001b[0m\u001b[0mcolumn_num\u001b[0m\u001b[0;34m]\u001b[0m \u001b[0;34m=\u001b[0m\u001b[0;31m \u001b[0m\u001b[0;31m\\\u001b[0m\u001b[0;34m\u001b[0m\u001b[0;34m\u001b[0m\u001b[0m\n\u001b[0;32m---> 41\u001b[0;31m             CircuitGridNode(circuit_grid_node.node_type,\n\u001b[0m\u001b[1;32m     42\u001b[0m                             \u001b[0mcircuit_grid_node\u001b[0m\u001b[0;34m.\u001b[0m\u001b[0mradians\u001b[0m\u001b[0;34m,\u001b[0m\u001b[0;34m\u001b[0m\u001b[0;34m\u001b[0m\u001b[0m\n\u001b[1;32m     43\u001b[0m                             \u001b[0mcircuit_grid_node\u001b[0m\u001b[0;34m.\u001b[0m\u001b[0mctrl_a\u001b[0m\u001b[0;34m,\u001b[0m\u001b[0;34m\u001b[0m\u001b[0;34m\u001b[0m\u001b[0m\n",
      "\u001b[0;31mAttributeError\u001b[0m: 'int' object has no attribute 'node_type'"
     ]
    }
   ],
   "source": [
    "circuit_grid_model.set_node(0,0, CircuitGridNode(node_types.IDEN))"
   ]
  },
  {
   "cell_type": "code",
   "execution_count": 7,
   "metadata": {},
   "outputs": [
    {
     "data": {
      "text/plain": [
       "'OPENQASM 2.0;\\ninclude \"qelib1.inc\";\\nqreg q[3];\\n'"
      ]
     },
     "execution_count": 7,
     "metadata": {},
     "output_type": "execute_result"
    }
   ],
   "source": [
    "circuit_grid_model.compute_circuit().qasm()"
   ]
  },
  {
   "cell_type": "code",
   "execution_count": null,
   "metadata": {},
   "outputs": [],
   "source": []
  }
 ],
 "metadata": {
  "kernelspec": {
   "display_name": "Python 3",
   "language": "python",
   "name": "python3"
  },
  "language_info": {
   "codemirror_mode": {
    "name": "ipython",
    "version": 3
   },
   "file_extension": ".py",
   "mimetype": "text/x-python",
   "name": "python",
   "nbconvert_exporter": "python",
   "pygments_lexer": "ipython3",
   "version": "3.7.1"
  }
 },
 "nbformat": 4,
 "nbformat_minor": 2
}

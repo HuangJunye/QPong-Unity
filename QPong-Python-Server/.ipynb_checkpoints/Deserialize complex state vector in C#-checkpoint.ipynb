{
 "cells": [
  {
   "cell_type": "code",
   "execution_count": 1,
   "metadata": {},
   "outputs": [
    {
     "data": {
      "text/html": [
       "\u001b[31m(1,13): error CS0019: Operator `^&#39; cannot be applied to operands of type `System.Numerics.Complex&#39; and `int&#39;\u001b[0m"
      ],
      "text/plain": [
       "\u001b[31m(1,13): error CS0019: Operator `^' cannot be applied to operands of type `System.Numerics.Complex' and `int'\u001b[0m"
      ]
     },
     "metadata": {},
     "output_type": "display_data"
    },
    {
     "data": {
      "text/html": [
       "\u001b[31m(1,10): error CS0117: `System.Numerics.Complex&#39; does not contain a definition for `pow&#39;\u001b[0m"
      ],
      "text/plain": [
       "\u001b[31m(1,10): error CS0117: `System.Numerics.Complex' does not contain a definition for `pow'\u001b[0m"
      ]
     },
     "metadata": {},
     "output_type": "display_data"
    },
    {
     "data": {
      "text/html": [
       "/Library/Frameworks/Mono.framework/Versions/5.18.1/lib/mono/gac/System.Numerics/4.0.0.0__b77a5c561934e089/System.Numerics.dll (Location of the symbol related to previous error)"
      ],
      "text/plain": [
       "/Library/Frameworks/Mono.framework/Versions/5.18.1/lib/mono/gac/System.Numerics/4.0.0.0__b77a5c561934e089/System.Numerics.dll (Location of the symbol related to previous error)"
      ]
     },
     "metadata": {},
     "output_type": "display_data"
    },
    {
     "data": {
      "text/html": [
       "\u001b[31m(3,54): error CS0029: Cannot implicitly convert type `double&#39; to `double[]&#39;\u001b[0m"
      ],
      "text/plain": [
       "\u001b[31m(3,54): error CS0029: Cannot implicitly convert type `double' to `double[]'\u001b[0m"
      ]
     },
     "metadata": {},
     "output_type": "display_data"
    },
    {
     "data": {
      "text/html": [
       "\u001b[31m(3,54): error CS0029: Cannot implicitly convert type `double&#39; to `double[]&#39;\u001b[0m"
      ],
      "text/plain": [
       "\u001b[31m(3,54): error CS0029: Cannot implicitly convert type `double' to `double[]'\u001b[0m"
      ]
     },
     "metadata": {},
     "output_type": "display_data"
    }
   ],
   "source": [
    "#r \"Newtonsoft.Json\"\n",
    "#r \"System.Numerics\"\n",
    "using System;\n",
    "using Newtonsoft.Json; \n",
    "using System.Numerics;"
   ]
  },
  {
   "cell_type": "code",
   "execution_count": 2,
   "metadata": {},
   "outputs": [],
   "source": [
    "public class DataObject{\n",
    "    public double[] __complex__ { get; set; }\n",
    "}"
   ]
  },
  {
   "cell_type": "code",
   "execution_count": 3,
   "metadata": {},
   "outputs": [],
   "source": [
    "public class Rootobject{\n",
    "    public DataObject[] __ndarray__ { get; set; }\n",
    "    public string dtype { get; set; }\n",
    "    public int[] shape { get; set; }\n",
    "}"
   ]
  },
  {
   "cell_type": "code",
   "execution_count": 34,
   "metadata": {},
   "outputs": [],
   "source": [
    "string statevectorString = @\"{\n",
    "\"\"__ndarray__\"\": [\n",
    "{\"\"__complex__\"\": [0.354, 0.0]}, \n",
    "{\"\"__complex__\"\": [0.354, 0.0]},\n",
    "{\"\"__complex__\"\": [0.354, 0.0]},\n",
    "{\"\"__complex__\"\": [0.354, 0.0]},\n",
    "{\"\"__complex__\"\": [0.354, 0.0]},\n",
    "{\"\"__complex__\"\": [0.354, 0.0]},\n",
    "{\"\"__complex__\"\": [0.354, 0.0]},\n",
    "{\"\"__complex__\"\": [0.354, 0.0]}\n",
    "], \n",
    "\"\"dtype\"\": \"\"complex128\"\", \n",
    "\"\"shape\"\": [8]}\""
   ]
  },
  {
   "cell_type": "code",
   "execution_count": 35,
   "metadata": {},
   "outputs": [],
   "source": [
    "var obj = JsonConvert.DeserializeObject<Rootobject>(statevectorString);"
   ]
  },
  {
   "cell_type": "code",
   "execution_count": 36,
   "metadata": {},
   "outputs": [],
   "source": [
    "var numberOfState = obj.shape[0]"
   ]
  },
  {
   "cell_type": "code",
   "execution_count": 37,
   "metadata": {},
   "outputs": [],
   "source": [
    "Complex[] stateVector = new Complex[numberOfState];\n",
    "Double[] stateProbability = new Double[numberOfState];"
   ]
  },
  {
   "cell_type": "code",
   "execution_count": 38,
   "metadata": {},
   "outputs": [],
   "source": [
    "for (int i = 0; i < numberOfState; i++){\n",
    "    stateVector[i] = new Complex(obj.__ndarray__[i].__complex__[0],obj.__ndarray__[i].__complex__[1]);\n",
    "    stateProbability[i] = Complex.Pow(stateVector[i],2).Magnitude;\n",
    "}"
   ]
  },
  {
   "cell_type": "code",
   "execution_count": 39,
   "metadata": {},
   "outputs": [
    {
     "data": {
      "text/html": [
       "<font style=\"color:Black\">[\n",
       "  {\n",
       "    &quot;Real&quot;: 0.354,\n",
       "    &quot;Imaginary&quot;: 0.0,\n",
       "    &quot;Magnitude&quot;: 0.354,\n",
       "    &quot;Phase&quot;: 0.0\n",
       "  },\n",
       "  {\n",
       "    &quot;Real&quot;: 0.354,\n",
       "    &quot;Imaginary&quot;: 0.0,\n",
       "    &quot;Magnitude&quot;: 0.354,\n",
       "    &quot;Phase&quot;: 0.0\n",
       "  },\n",
       "  {\n",
       "    &quot;Real&quot;: 0.354,\n",
       "    &quot;Imaginary&quot;: 0.0,\n",
       "    &quot;Magnitude&quot;: 0.354,\n",
       "    &quot;Phase&quot;: 0.0\n",
       "  },\n",
       "  {\n",
       "    &quot;Real&quot;: 0.354,\n",
       "    &quot;Imaginary&quot;: 0.0,\n",
       "    &quot;Magnitude&quot;: 0.354,\n",
       "    &quot;Phase&quot;: 0.0\n",
       "  },\n",
       "  {\n",
       "    &quot;Real&quot;: 0.354,\n",
       "    &quot;Imaginary&quot;: 0.0,\n",
       "    &quot;Magnitude&quot;: 0.354,\n",
       "    &quot;Phase&quot;: 0.0\n",
       "  },\n",
       "  {\n",
       "    &quot;Real&quot;: 0.354,\n",
       "    &quot;Imaginary&quot;: 0.0,\n",
       "    &quot;Magnitude&quot;: 0.354,\n",
       "    &quot;Phase&quot;: 0.0\n",
       "  },\n",
       "  {\n",
       "    &quot;Real&quot;: 0.354,\n",
       "    &quot;Imaginary&quot;: 0.0,\n",
       "    &quot;Magnitude&quot;: 0.354,\n",
       "    &quot;Phase&quot;: 0.0\n",
       "  },\n",
       "  {\n",
       "    &quot;Real&quot;: 0.354,\n",
       "    &quot;Imaginary&quot;: 0.0,\n",
       "    &quot;Magnitude&quot;: 0.354,\n",
       "    &quot;Phase&quot;: 0.0\n",
       "  }\n",
       "]\n",
       "</font>"
      ],
      "text/plain": [
       "[\n",
       "  {\n",
       "    \"Real\": 0.354,\n",
       "    \"Imaginary\": 0.0,\n",
       "    \"Magnitude\": 0.354,\n",
       "    \"Phase\": 0.0\n",
       "  },\n",
       "  {\n",
       "    \"Real\": 0.354,\n",
       "    \"Imaginary\": 0.0,\n",
       "    \"Magnitude\": 0.354,\n",
       "    \"Phase\": 0.0\n",
       "  },\n",
       "  {\n",
       "    \"Real\": 0.354,\n",
       "    \"Imaginary\": 0.0,\n",
       "    \"Magnitude\": 0.354,\n",
       "    \"Phase\": 0.0\n",
       "  },\n",
       "  {\n",
       "    \"Real\": 0.354,\n",
       "    \"Imaginary\": 0.0,\n",
       "    \"Magnitude\": 0.354,\n",
       "    \"Phase\": 0.0\n",
       "  },\n",
       "  {\n",
       "    \"Real\": 0.354,\n",
       "    \"Imaginary\": 0.0,\n",
       "    \"Magnitude\": 0.354,\n",
       "    \"Phase\": 0.0\n",
       "  },\n",
       "  {\n",
       "    \"Real\": 0.354,\n",
       "    \"Imaginary\": 0.0,\n",
       "    \"Magnitude\": 0.354,\n",
       "    \"Phase\": 0.0\n",
       "  },\n",
       "  {\n",
       "    \"Real\": 0.354,\n",
       "    \"Imaginary\": 0.0,\n",
       "    \"Magnitude\": 0.354,\n",
       "    \"Phase\": 0.0\n",
       "  },\n",
       "  {\n",
       "    \"Real\": 0.354,\n",
       "    \"Imaginary\": 0.0,\n",
       "    \"Magnitude\": 0.354,\n",
       "    \"Phase\": 0.0\n",
       "  }\n",
       "]\n"
      ]
     },
     "metadata": {},
     "output_type": "display_data"
    }
   ],
   "source": [
    "stateVector"
   ]
  },
  {
   "cell_type": "code",
   "execution_count": 40,
   "metadata": {},
   "outputs": [
    {
     "data": {
      "text/html": [
       "<font style=\"color:Black\">[\n",
       "  0.12531599999999998,\n",
       "  0.12531599999999998,\n",
       "  0.12531599999999998,\n",
       "  0.12531599999999998,\n",
       "  0.12531599999999998,\n",
       "  0.12531599999999998,\n",
       "  0.12531599999999998,\n",
       "  0.12531599999999998\n",
       "]\n",
       "</font>"
      ],
      "text/plain": [
       "[\n",
       "  0.12531599999999998,\n",
       "  0.12531599999999998,\n",
       "  0.12531599999999998,\n",
       "  0.12531599999999998,\n",
       "  0.12531599999999998,\n",
       "  0.12531599999999998,\n",
       "  0.12531599999999998,\n",
       "  0.12531599999999998\n",
       "]\n"
      ]
     },
     "metadata": {},
     "output_type": "display_data"
    }
   ],
   "source": [
    "stateProbability"
   ]
  },
  {
   "cell_type": "code",
   "execution_count": null,
   "metadata": {},
   "outputs": [],
   "source": []
  }
 ],
 "metadata": {
  "kernelspec": {
   "display_name": "C#",
   "language": "csharp",
   "name": "csharp"
  },
  "language_info": {
   "file_extension": ".cs",
   "mimetype": "text/x-csharp",
   "name": "C#",
   "pygments_lexer": "c#",
   "version": "4.0.30319"
  }
 },
 "nbformat": 4,
 "nbformat_minor": 2
}

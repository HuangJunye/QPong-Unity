{
 "cells": [
  {
   "cell_type": "code",
   "execution_count": 1,
   "metadata": {},
   "outputs": [
    {
     "data": {
      "text/html": [
       "\u001b[31m(1,22): error CS0117: `System.Random&#39; does not contain a definition for `Range&#39;\u001b[0m"
      ],
      "text/plain": [
       "\u001b[31m(1,22): error CS0117: `System.Random' does not contain a definition for `Range'\u001b[0m"
      ]
     },
     "metadata": {},
     "output_type": "display_data"
    },
    {
     "data": {
      "text/html": [
       "/Library/Frameworks/Mono.framework/Versions/5.18.1/lib/mono/4.5/mscorlib.dll (Location of the symbol related to previous error)"
      ],
      "text/plain": [
       "/Library/Frameworks/Mono.framework/Versions/5.18.1/lib/mono/4.5/mscorlib.dll (Location of the symbol related to previous error)"
      ]
     },
     "metadata": {},
     "output_type": "display_data"
    }
   ],
   "source": [
    "using System.Collections;\n",
    "using System.Collections.Generic;"
   ]
  },
  {
   "cell_type": "code",
   "execution_count": 2,
   "metadata": {},
   "outputs": [],
   "source": [
    "var random = Random.Range(-1,1);"
   ]
  },
  {
   "cell_type": "code",
   "execution_count": 8,
   "metadata": {},
   "outputs": [],
   "source": [
    "Console.WriteLine(random);"
   ]
  },
  {
   "cell_type": "code",
   "execution_count": null,
   "metadata": {},
   "outputs": [],
   "source": []
  }
 ],
 "metadata": {
  "kernelspec": {
   "display_name": "C#",
   "language": "csharp",
   "name": "csharp"
  },
  "language_info": {
   "file_extension": ".cs",
   "mimetype": "text/x-csharp",
   "name": "C#",
   "pygments_lexer": "c#",
   "version": "4.0.30319"
  }
 },
 "nbformat": 4,
 "nbformat_minor": 2
}
